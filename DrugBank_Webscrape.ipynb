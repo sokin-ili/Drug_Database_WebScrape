{
 "cells": [
  {
   "cell_type": "markdown",
   "id": "6a0e213a",
   "metadata": {},
   "source": [
    "## Import libraries"
   ]
  },
  {
   "cell_type": "code",
   "execution_count": 3,
   "id": "7ac57de3",
   "metadata": {
    "ExecuteTime": {
     "end_time": "2022-03-05T21:39:20.255493Z",
     "start_time": "2022-03-05T21:39:20.247541Z"
    }
   },
   "outputs": [],
   "source": [
    "from bs4 import BeautifulSoup\n",
    "import requests\n",
    "import re \n",
    "import pandas as pd\n",
    "import numpy as np\n",
    "from datetime import datetime, timedelta\n",
    "from tqdm import tqdm_notebook as tqdm\n",
    "from time import sleep"
   ]
  },
  {
   "cell_type": "markdown",
   "id": "bf926a1e",
   "metadata": {},
   "source": [
    "## Main link and elements to scrape"
   ]
  },
  {
   "cell_type": "code",
   "execution_count": 4,
   "id": "b64ab697",
   "metadata": {
    "ExecuteTime": {
     "end_time": "2022-03-05T21:39:21.082935Z",
     "start_time": "2022-03-05T21:39:20.528742Z"
    }
   },
   "outputs": [],
   "source": [
    "main_link = 'https://go.drugbank.com/drugs?approved=1&c=name&d=up'\n",
    "user_agent = {'User-agent': 'Chrome'}\n",
    "response = requests.get(main_link, timeout=15, headers= user_agent)\n",
    "soup = BeautifulSoup(response.content, 'html.parser')\n",
    "elements = soup.find_all('div', {'class':\"index-content\"})"
   ]
  },
  {
   "cell_type": "markdown",
   "id": "9d5dbddb",
   "metadata": {},
   "source": [
    "### Name"
   ]
  },
  {
   "cell_type": "code",
   "execution_count": 5,
   "id": "e6c03158",
   "metadata": {
    "ExecuteTime": {
     "end_time": "2022-03-05T21:39:21.985021Z",
     "start_time": "2022-03-05T21:39:21.972970Z"
    }
   },
   "outputs": [],
   "source": [
    "Name=[]\n",
    "Name.append(elements[0].find_all('td', class_='name-value text-sm-center drug-name')[0].text.strip())"
   ]
  },
  {
   "cell_type": "code",
   "execution_count": 6,
   "id": "7116c074",
   "metadata": {
    "ExecuteTime": {
     "end_time": "2022-03-05T21:39:22.155887Z",
     "start_time": "2022-03-05T21:39:22.145913Z"
    }
   },
   "outputs": [
    {
     "data": {
      "text/plain": [
       "['1-Palmitoyl-2-oleoyl-sn-glycero-3-(phospho-rac-(1-glycerol))']"
      ]
     },
     "execution_count": 6,
     "metadata": {},
     "output_type": "execute_result"
    }
   ],
   "source": [
    "Name"
   ]
  },
  {
   "cell_type": "markdown",
   "id": "c904a42e",
   "metadata": {},
   "source": [
    "### Weight + Chemical type"
   ]
  },
  {
   "cell_type": "code",
   "execution_count": 7,
   "id": "e376d457",
   "metadata": {
    "ExecuteTime": {
     "end_time": "2022-03-05T21:39:22.484976Z",
     "start_time": "2022-03-05T21:39:22.460963Z"
    }
   },
   "outputs": [],
   "source": [
    "Weight=[]\n",
    "Chem_type=[]\n",
    "Weight.append(elements[0].find_all('td', class_='weight-value')[0].get_text().strip().split(' ')[0])\n",
    "Chem_type.append(elements[0].find_all('td', class_='weight-value')[0].get_text().strip().split(' ')[1])"
   ]
  },
  {
   "cell_type": "code",
   "execution_count": 8,
   "id": "dcc57145",
   "metadata": {
    "ExecuteTime": {
     "end_time": "2022-03-05T21:39:22.657218Z",
     "start_time": "2022-03-05T21:39:22.638751Z"
    }
   },
   "outputs": [
    {
     "data": {
      "text/plain": [
       "['C40H77O10P']"
      ]
     },
     "execution_count": 8,
     "metadata": {},
     "output_type": "execute_result"
    }
   ],
   "source": [
    "Chem_type"
   ]
  },
  {
   "cell_type": "markdown",
   "id": "1ef318d5",
   "metadata": {},
   "source": [
    "### Structure"
   ]
  },
  {
   "cell_type": "code",
   "execution_count": 10,
   "id": "af98627a",
   "metadata": {
    "ExecuteTime": {
     "end_time": "2022-03-05T21:39:24.268467Z",
     "start_time": "2022-03-05T21:39:24.258493Z"
    }
   },
   "outputs": [],
   "source": [
    "Structure=[]\n",
    "Structure.append('https://go.drugbank.com'+elements[0].find_all('td', class_='structure-value')[0].find('a', class_='moldbi-vector-thumbnail').find('img')['src'].replace('thumb.svg', 'image.svg'))"
   ]
  },
  {
   "cell_type": "code",
   "execution_count": 11,
   "id": "a66cdd35",
   "metadata": {
    "ExecuteTime": {
     "end_time": "2022-03-05T21:39:24.562816Z",
     "start_time": "2022-03-05T21:39:24.555832Z"
    }
   },
   "outputs": [
    {
     "data": {
      "text/plain": [
       "['https://go.drugbank.com/structures/DB11331/image.svg']"
      ]
     },
     "execution_count": 11,
     "metadata": {},
     "output_type": "execute_result"
    }
   ],
   "source": [
    "Structure"
   ]
  },
  {
   "cell_type": "markdown",
   "id": "793bab24",
   "metadata": {},
   "source": [
    "### Description"
   ]
  },
  {
   "cell_type": "code",
   "execution_count": 12,
   "id": "10465f3a",
   "metadata": {
    "ExecuteTime": {
     "end_time": "2022-03-05T21:39:24.921504Z",
     "start_time": "2022-03-05T21:39:24.904244Z"
    }
   },
   "outputs": [],
   "source": [
    "Description = []\n",
    "Description.append(elements[0].find_all('td', class_='description-value')[0].text.strip())"
   ]
  },
  {
   "cell_type": "code",
   "execution_count": 13,
   "id": "3e28877e",
   "metadata": {
    "ExecuteTime": {
     "end_time": "2022-03-05T21:39:25.077147Z",
     "start_time": "2022-03-05T21:39:25.069206Z"
    }
   },
   "outputs": [
    {
     "data": {
      "text/plain": [
       "['A synthetic lung surfactant used to treat infant respiratory distress syndrome.']"
      ]
     },
     "execution_count": 13,
     "metadata": {},
     "output_type": "execute_result"
    }
   ],
   "source": [
    "Description"
   ]
  },
  {
   "cell_type": "markdown",
   "id": "d3940d7b",
   "metadata": {},
   "source": [
    "### Categories"
   ]
  },
  {
   "cell_type": "code",
   "execution_count": 14,
   "id": "c40139eb",
   "metadata": {
    "ExecuteTime": {
     "end_time": "2022-03-05T21:39:25.797475Z",
     "start_time": "2022-03-05T21:39:25.776590Z"
    }
   },
   "outputs": [],
   "source": [
    "Categories=[]\n",
    "Categories.append(elements[0].find_all('td', class_='categories-value')[0].text.strip())"
   ]
  },
  {
   "cell_type": "code",
   "execution_count": 15,
   "id": "3dfdf743",
   "metadata": {
    "ExecuteTime": {
     "end_time": "2022-03-05T21:39:25.936649Z",
     "start_time": "2022-03-05T21:39:25.922686Z"
    }
   },
   "outputs": [
    {
     "data": {
      "text/plain": [
       "'Glycerophosphates / Glycerophospholipids / Lipids / Membrane Lipids / Phosphatidic Acids / Phospholipids / Ultrasound Contrast Media'"
      ]
     },
     "execution_count": 15,
     "metadata": {},
     "output_type": "execute_result"
    }
   ],
   "source": [
    "elements[0].find_all('td', class_='categories-value')[2].text.strip()"
   ]
  },
  {
   "cell_type": "markdown",
   "id": "751ab678",
   "metadata": {},
   "source": [
    "### Construst the DataFrame"
   ]
  },
  {
   "cell_type": "code",
   "execution_count": 16,
   "id": "6ba2cec8",
   "metadata": {
    "ExecuteTime": {
     "end_time": "2022-03-05T21:39:26.699516Z",
     "start_time": "2022-03-05T21:39:26.679748Z"
    }
   },
   "outputs": [],
   "source": [
    "cols=['Name', 'Weight', 'Chem_type', 'Structure','Description', 'Categories']\n",
    "df = pd.DataFrame(list(zip(Name, Weight, Chem_type, Structure, Description, Categories)), columns=cols)"
   ]
  },
  {
   "cell_type": "code",
   "execution_count": 17,
   "id": "0df9f0b4",
   "metadata": {
    "ExecuteTime": {
     "end_time": "2022-03-05T21:39:28.648011Z",
     "start_time": "2022-03-05T21:39:28.627061Z"
    }
   },
   "outputs": [
    {
     "data": {
      "text/html": [
       "<div>\n",
       "<style scoped>\n",
       "    .dataframe tbody tr th:only-of-type {\n",
       "        vertical-align: middle;\n",
       "    }\n",
       "\n",
       "    .dataframe tbody tr th {\n",
       "        vertical-align: top;\n",
       "    }\n",
       "\n",
       "    .dataframe thead th {\n",
       "        text-align: right;\n",
       "    }\n",
       "</style>\n",
       "<table border=\"1\" class=\"dataframe\">\n",
       "  <thead>\n",
       "    <tr style=\"text-align: right;\">\n",
       "      <th></th>\n",
       "      <th>Name</th>\n",
       "      <th>Weight</th>\n",
       "      <th>Chem_type</th>\n",
       "      <th>Structure</th>\n",
       "      <th>Description</th>\n",
       "      <th>Categories</th>\n",
       "    </tr>\n",
       "  </thead>\n",
       "  <tbody>\n",
       "    <tr>\n",
       "      <th>0</th>\n",
       "      <td>1-Palmitoyl-2-oleoyl-sn-glycero-3-(phospho-rac...</td>\n",
       "      <td>749.02</td>\n",
       "      <td>C40H77O10P</td>\n",
       "      <td>https://go.drugbank.com/structures/DB11331/ima...</td>\n",
       "      <td>A synthetic lung surfactant used to treat infa...</td>\n",
       "      <td>Not Available</td>\n",
       "    </tr>\n",
       "  </tbody>\n",
       "</table>\n",
       "</div>"
      ],
      "text/plain": [
       "                                                Name  Weight   Chem_type  \\\n",
       "0  1-Palmitoyl-2-oleoyl-sn-glycero-3-(phospho-rac...  749.02  C40H77O10P   \n",
       "\n",
       "                                           Structure  \\\n",
       "0  https://go.drugbank.com/structures/DB11331/ima...   \n",
       "\n",
       "                                         Description     Categories  \n",
       "0  A synthetic lung surfactant used to treat infa...  Not Available  "
      ]
     },
     "execution_count": 17,
     "metadata": {},
     "output_type": "execute_result"
    }
   ],
   "source": [
    "df"
   ]
  },
  {
   "cell_type": "markdown",
   "id": "3939fe9f",
   "metadata": {},
   "source": [
    "## Final WebScrape for drugs "
   ]
  },
  {
   "cell_type": "code",
   "execution_count": 18,
   "id": "4653b839",
   "metadata": {
    "ExecuteTime": {
     "end_time": "2022-03-05T21:43:02.398480Z",
     "start_time": "2022-03-05T21:40:28.409979Z"
    }
   },
   "outputs": [
    {
     "name": "stderr",
     "output_type": "stream",
     "text": [
      "C:\\Users\\sokin\\AppData\\Local\\Temp/ipykernel_22628/3191704513.py:15: TqdmDeprecationWarning: This function will be removed in tqdm==5.0.0\n",
      "Please use `tqdm.notebook.tqdm` instead of `tqdm.tqdm_notebook`\n",
      "  for page in tqdm(list_pages):\n"
     ]
    },
    {
     "data": {
      "application/vnd.jupyter.widget-view+json": {
       "model_id": "0676a82c638340c186ba23b6c2c76f08",
       "version_major": 2,
       "version_minor": 0
      },
      "text/plain": [
       "  0%|          | 0/109 [00:00<?, ?it/s]"
      ]
     },
     "metadata": {},
     "output_type": "display_data"
    }
   ],
   "source": [
    "Name=[]\n",
    "Weight=[]\n",
    "Chem_type=[]\n",
    "Structure=[]\n",
    "Description=[]\n",
    "Categories=[]\n",
    "cols=['Name', 'Weight', 'Chem_type', 'Structure','Description', 'Categories']\n",
    "df = pd.DataFrame(list(zip(Name, Weight, Chem_type, Structure, Description, Categories)), columns=cols)    \n",
    "\n",
    "list_pages=[]\n",
    "main_link='https://go.drugbank.com/drugs?approved=1&c=name&d=up&page={}'\n",
    "for index in range(1,110):\n",
    "    list_pages.append(main_link.format(index))\n",
    "    \n",
    "for page in tqdm(list_pages):\n",
    "    user_agent = {'User-agent': 'Chrome'}\n",
    "    response = requests.get(page, timeout=15, headers= user_agent)\n",
    "    soup = BeautifulSoup(response.content, 'html.parser')\n",
    "    elements = soup.find_all('div', {'class':\"index-content\"})\n",
    "    len_elements = len(elements[0].find_all('td', class_='name-value text-sm-center drug-name'))\n",
    "\n",
    "\n",
    "    for x in range(len_elements):\n",
    "        #name\n",
    "        try:\n",
    "            Name = elements[0].find_all('td', class_='name-value text-sm-center drug-name')[x].text.strip()\n",
    "        except:\n",
    "            Name = np.nan\n",
    "        #weight    \n",
    "        try:\n",
    "            Weight = elements[0].find_all('td', class_='weight-value')[x].get_text().strip().split(' ')[0]\n",
    "        except:\n",
    "            Weight = np.nan\n",
    "        #chemical type\n",
    "        try:\n",
    "            Chem_type = elements[0].find_all('td', class_='weight-value')[x].get_text().strip().split(' ')[1]\n",
    "        except:\n",
    "            Chem_type = np.nan\n",
    "        #structure\n",
    "        try:\n",
    "            Structure = 'https://go.drugbank.com'+elements[0].find_all('td', class_='structure-value')[x].find('a', class_='moldbi-vector-thumbnail').find('img')['src'].replace('thumb.svg', 'image.svg')\n",
    "        except:\n",
    "            Structure = np.nan\n",
    "        #description\n",
    "        try:\n",
    "            Description = elements[0].find_all('td', class_='description-value')[x].text.strip()\n",
    "        except:\n",
    "            Description = np.nan\n",
    "        #categories\n",
    "        try:\n",
    "            Categories = elements[0].find_all('td', class_='categories-value')[x].text.strip()\n",
    "        except:\n",
    "            Categories = np.nan\n",
    "\n",
    "        temp={'Name':Name, 'Weight':Weight, 'Chem_type':Chem_type, 'Structure':Structure, \n",
    "              'Description':Description, 'Categories':Categories}\n",
    "        df = df.append(temp, ignore_index=True)\n"
   ]
  },
  {
   "cell_type": "markdown",
   "id": "7a0b3d99",
   "metadata": {},
   "source": [
    "## Final drugs table"
   ]
  },
  {
   "cell_type": "code",
   "execution_count": 20,
   "id": "94648d72",
   "metadata": {
    "ExecuteTime": {
     "end_time": "2022-03-05T21:44:32.362698Z",
     "start_time": "2022-03-05T21:44:32.337631Z"
    }
   },
   "outputs": [
    {
     "data": {
      "text/html": [
       "<div>\n",
       "<style scoped>\n",
       "    .dataframe tbody tr th:only-of-type {\n",
       "        vertical-align: middle;\n",
       "    }\n",
       "\n",
       "    .dataframe tbody tr th {\n",
       "        vertical-align: top;\n",
       "    }\n",
       "\n",
       "    .dataframe thead th {\n",
       "        text-align: right;\n",
       "    }\n",
       "</style>\n",
       "<table border=\"1\" class=\"dataframe\">\n",
       "  <thead>\n",
       "    <tr style=\"text-align: right;\">\n",
       "      <th></th>\n",
       "      <th>Name</th>\n",
       "      <th>Weight</th>\n",
       "      <th>Chem_type</th>\n",
       "      <th>Structure</th>\n",
       "      <th>Description</th>\n",
       "      <th>Categories</th>\n",
       "    </tr>\n",
       "  </thead>\n",
       "  <tbody>\n",
       "    <tr>\n",
       "      <th>0</th>\n",
       "      <td>1-Palmitoyl-2-oleoyl-sn-glycero-3-(phospho-rac...</td>\n",
       "      <td>749.02</td>\n",
       "      <td>C40H77O10P</td>\n",
       "      <td>https://go.drugbank.com/structures/DB11331/ima...</td>\n",
       "      <td>A synthetic lung surfactant used to treat infa...</td>\n",
       "      <td>Not Available</td>\n",
       "    </tr>\n",
       "    <tr>\n",
       "      <th>1</th>\n",
       "      <td>1,2-Benzodiazepine</td>\n",
       "      <td>144.177</td>\n",
       "      <td>C9H8N2</td>\n",
       "      <td>https://go.drugbank.com/structures/DB12537/ima...</td>\n",
       "      <td>Benzodiazepine is under investigation for the ...</td>\n",
       "      <td>Benzazepines / Benzodiazepines and benzodiazep...</td>\n",
       "    </tr>\n",
       "    <tr>\n",
       "      <th>2</th>\n",
       "      <td>1,2-Distearoyllecithin</td>\n",
       "      <td>790.161</td>\n",
       "      <td>C44H88NO8P</td>\n",
       "      <td>https://go.drugbank.com/structures/DB14099/ima...</td>\n",
       "      <td>Not Annotated</td>\n",
       "      <td>Glycerophosphates / Glycerophospholipids / Lip...</td>\n",
       "    </tr>\n",
       "    <tr>\n",
       "      <th>3</th>\n",
       "      <td>1,2-icosapentoyl-sn-glycero-3-phosphoserine</td>\n",
       "      <td>842.064</td>\n",
       "      <td>C47H72NO10P</td>\n",
       "      <td>https://go.drugbank.com/structures/DB14096/ima...</td>\n",
       "      <td>Not Annotated</td>\n",
       "      <td>Not Annotated</td>\n",
       "    </tr>\n",
       "    <tr>\n",
       "      <th>4</th>\n",
       "      <td>2-mercaptobenzothiazole</td>\n",
       "      <td>167.251</td>\n",
       "      <td>C7H5NS2</td>\n",
       "      <td>https://go.drugbank.com/structures/DB11496/ima...</td>\n",
       "      <td>Not Annotated</td>\n",
       "      <td>Standardized Chemical Allergen</td>\n",
       "    </tr>\n",
       "    <tr>\n",
       "      <th>...</th>\n",
       "      <td>...</td>\n",
       "      <td>...</td>\n",
       "      <td>...</td>\n",
       "      <td>...</td>\n",
       "      <td>...</td>\n",
       "      <td>...</td>\n",
       "    </tr>\n",
       "    <tr>\n",
       "      <th>2717</th>\n",
       "      <td>Zopiclone</td>\n",
       "      <td>388.808</td>\n",
       "      <td>C17H17ClN6O3</td>\n",
       "      <td>https://go.drugbank.com/structures/DB01198/ima...</td>\n",
       "      <td>A nonbenzodiazepine hypnotic used for the shor...</td>\n",
       "      <td>Drugs causing inadvertant photosensitivity / H...</td>\n",
       "    </tr>\n",
       "    <tr>\n",
       "      <th>2718</th>\n",
       "      <td>Zotepine</td>\n",
       "      <td>331.86</td>\n",
       "      <td>C18H18ClNOS</td>\n",
       "      <td>https://go.drugbank.com/structures/DB09225/ima...</td>\n",
       "      <td>Zotepine, like other atypical antipsychotics, ...</td>\n",
       "      <td>Neurotoxic agents</td>\n",
       "    </tr>\n",
       "    <tr>\n",
       "      <th>2719</th>\n",
       "      <td>Zucapsaicin</td>\n",
       "      <td>305.4119</td>\n",
       "      <td>C18H27NO3</td>\n",
       "      <td>https://go.drugbank.com/structures/DB09120/ima...</td>\n",
       "      <td>A topical analgesic used as an adjunct to reli...</td>\n",
       "      <td>Capsaicin and Similar Agents</td>\n",
       "    </tr>\n",
       "    <tr>\n",
       "      <th>2720</th>\n",
       "      <td>Zuclopenthixol</td>\n",
       "      <td>400.965</td>\n",
       "      <td>C22H25ClN2OS</td>\n",
       "      <td>https://go.drugbank.com/structures/DB01624/ima...</td>\n",
       "      <td>An antipsychotic indicated for the management ...</td>\n",
       "      <td>Thioxanthene Derivatives</td>\n",
       "    </tr>\n",
       "    <tr>\n",
       "      <th>2721</th>\n",
       "      <td>Zytron</td>\n",
       "      <td>314.16</td>\n",
       "      <td>C10H14Cl2NO2PS</td>\n",
       "      <td>https://go.drugbank.com/structures/DB11768/ima...</td>\n",
       "      <td>Zytron (DMPA) is under investigation for the t...</td>\n",
       "      <td>Amines / Organophosphorus Compounds / Sulfur C...</td>\n",
       "    </tr>\n",
       "  </tbody>\n",
       "</table>\n",
       "<p>2722 rows × 6 columns</p>\n",
       "</div>"
      ],
      "text/plain": [
       "                                                   Name    Weight  \\\n",
       "0     1-Palmitoyl-2-oleoyl-sn-glycero-3-(phospho-rac...    749.02   \n",
       "1                                    1,2-Benzodiazepine   144.177   \n",
       "2                                1,2-Distearoyllecithin   790.161   \n",
       "3           1,2-icosapentoyl-sn-glycero-3-phosphoserine   842.064   \n",
       "4                               2-mercaptobenzothiazole   167.251   \n",
       "...                                                 ...       ...   \n",
       "2717                                          Zopiclone   388.808   \n",
       "2718                                           Zotepine    331.86   \n",
       "2719                                        Zucapsaicin  305.4119   \n",
       "2720                                     Zuclopenthixol   400.965   \n",
       "2721                                             Zytron    314.16   \n",
       "\n",
       "           Chem_type                                          Structure  \\\n",
       "0         C40H77O10P  https://go.drugbank.com/structures/DB11331/ima...   \n",
       "1             C9H8N2  https://go.drugbank.com/structures/DB12537/ima...   \n",
       "2         C44H88NO8P  https://go.drugbank.com/structures/DB14099/ima...   \n",
       "3        C47H72NO10P  https://go.drugbank.com/structures/DB14096/ima...   \n",
       "4            C7H5NS2  https://go.drugbank.com/structures/DB11496/ima...   \n",
       "...              ...                                                ...   \n",
       "2717    C17H17ClN6O3  https://go.drugbank.com/structures/DB01198/ima...   \n",
       "2718     C18H18ClNOS  https://go.drugbank.com/structures/DB09225/ima...   \n",
       "2719       C18H27NO3  https://go.drugbank.com/structures/DB09120/ima...   \n",
       "2720    C22H25ClN2OS  https://go.drugbank.com/structures/DB01624/ima...   \n",
       "2721  C10H14Cl2NO2PS  https://go.drugbank.com/structures/DB11768/ima...   \n",
       "\n",
       "                                            Description  \\\n",
       "0     A synthetic lung surfactant used to treat infa...   \n",
       "1     Benzodiazepine is under investigation for the ...   \n",
       "2                                         Not Annotated   \n",
       "3                                         Not Annotated   \n",
       "4                                         Not Annotated   \n",
       "...                                                 ...   \n",
       "2717  A nonbenzodiazepine hypnotic used for the shor...   \n",
       "2718  Zotepine, like other atypical antipsychotics, ...   \n",
       "2719  A topical analgesic used as an adjunct to reli...   \n",
       "2720  An antipsychotic indicated for the management ...   \n",
       "2721  Zytron (DMPA) is under investigation for the t...   \n",
       "\n",
       "                                             Categories  \n",
       "0                                         Not Available  \n",
       "1     Benzazepines / Benzodiazepines and benzodiazep...  \n",
       "2     Glycerophosphates / Glycerophospholipids / Lip...  \n",
       "3                                         Not Annotated  \n",
       "4                        Standardized Chemical Allergen  \n",
       "...                                                 ...  \n",
       "2717  Drugs causing inadvertant photosensitivity / H...  \n",
       "2718                                  Neurotoxic agents  \n",
       "2719                       Capsaicin and Similar Agents  \n",
       "2720                           Thioxanthene Derivatives  \n",
       "2721  Amines / Organophosphorus Compounds / Sulfur C...  \n",
       "\n",
       "[2722 rows x 6 columns]"
      ]
     },
     "execution_count": 20,
     "metadata": {},
     "output_type": "execute_result"
    }
   ],
   "source": [
    "df"
   ]
  },
  {
   "cell_type": "code",
   "execution_count": null,
   "id": "d22b88f3",
   "metadata": {},
   "outputs": [],
   "source": []
  }
 ],
 "metadata": {
  "kernelspec": {
   "display_name": "Python 3 (ipykernel)",
   "language": "python",
   "name": "python3"
  },
  "language_info": {
   "codemirror_mode": {
    "name": "ipython",
    "version": 3
   },
   "file_extension": ".py",
   "mimetype": "text/x-python",
   "name": "python",
   "nbconvert_exporter": "python",
   "pygments_lexer": "ipython3",
   "version": "3.8.8"
  }
 },
 "nbformat": 4,
 "nbformat_minor": 5
}
